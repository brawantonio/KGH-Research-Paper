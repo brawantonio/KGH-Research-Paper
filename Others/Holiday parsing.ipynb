{
 "cells": [
  {
   "cell_type": "code",
   "execution_count": 22,
   "metadata": {},
   "outputs": [],
   "source": [
    "import pandas as pd\n",
    "from datetime import timedelta\n",
    "import numpy as np\n",
    "\n",
    "from matplotlib import cm\n",
    "import matplotlib.pyplot as plt\n",
    "plt.rcParams[\"font.family\"] = \"serif\"\n",
    "plt.rcParams[\"mathtext.fontset\"] = \"dejavuserif\""
   ]
  },
  {
   "cell_type": "code",
   "execution_count": 23,
   "metadata": {},
   "outputs": [],
   "source": [
    "holidays = pd.read_csv('HolidayDates.csv', parse_dates=['Holiday'])"
   ]
  },
  {
   "cell_type": "code",
   "execution_count": 24,
   "metadata": {},
   "outputs": [],
   "source": [
    "data = pd.read_csv('bedoccupancy.csv',\n",
    "                   parse_dates=['ADMISSION_DATE_TIME', 'DISCHARGE_DATE_TIME'])"
   ]
  },
  {
   "cell_type": "code",
   "execution_count": 25,
   "metadata": {},
   "outputs": [],
   "source": [
    "admission_start = data['ADMISSION_DATE_TIME'].iloc[0]\n",
    "admission_end = data['ADMISSION_DATE_TIME'].iloc[-1]\n",
    "\n",
    "discharge_start = data['DISCHARGE_DATE_TIME'].iloc[0]\n",
    "discharge_end = data['DISCHARGE_DATE_TIME'].iloc[-1]\n",
    "\n",
    "start = max(admission_start, discharge_start)\n",
    "end = min(admission_end, discharge_end)"
   ]
  },
  {
   "cell_type": "code",
   "execution_count": 26,
   "metadata": {},
   "outputs": [],
   "source": [
    "date_range = pd.date_range(start=start.date(), end=end.date())"
   ]
  },
  {
   "cell_type": "code",
   "execution_count": 27,
   "metadata": {},
   "outputs": [],
   "source": [
    "holidays_values = np.array([])\n",
    "for date in date_range:\n",
    "    if len(holidays[holidays['Holiday'] == date]) == 0:\n",
    "        aux = 0\n",
    "    else: aux=1\n",
    "    holidays_values=np.append(holidays_values, aux)"
   ]
  },
  {
   "cell_type": "code",
   "execution_count": null,
   "metadata": {},
   "outputs": [],
   "source": []
  },
  {
   "cell_type": "code",
   "execution_count": null,
   "metadata": {},
   "outputs": [],
   "source": []
  }
 ],
 "metadata": {
  "kernelspec": {
   "display_name": "Python 3",
   "language": "python",
   "name": "python3"
  },
  "language_info": {
   "codemirror_mode": {
    "name": "ipython",
    "version": 3
   },
   "file_extension": ".py",
   "mimetype": "text/x-python",
   "name": "python",
   "nbconvert_exporter": "python",
   "pygments_lexer": "ipython3",
   "version": "3.7.4"
  }
 },
 "nbformat": 4,
 "nbformat_minor": 2
}
