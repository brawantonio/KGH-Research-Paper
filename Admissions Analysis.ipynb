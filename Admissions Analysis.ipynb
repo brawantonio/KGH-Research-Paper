{
 "cells": [
  {
   "cell_type": "code",
   "execution_count": 207,
   "metadata": {},
   "outputs": [],
   "source": [
    "import pandas as pd\n",
    "from datetime import timedelta\n",
    "import datetime as dt\n",
    "import numpy as np\n",
    "\n",
    "from matplotlib import cm\n",
    "import matplotlib.pyplot as plt\n",
    "plt.rcParams[\"font.family\"] = \"serif\"\n",
    "plt.rcParams[\"mathtext.fontset\"] = \"dejavuserif\""
   ]
  },
  {
   "cell_type": "markdown",
   "metadata": {},
   "source": [
    "## Reading and displaying raw data"
   ]
  },
  {
   "cell_type": "code",
   "execution_count": 208,
   "metadata": {},
   "outputs": [],
   "source": [
    "data = pd.read_csv('bedoccupancy.csv',\n",
    "                   parse_dates=['ADMISSION_DATE_TIME', 'DISCHARGE_DATE_TIME'])\n",
    "\n",
    "data = data.rename(columns={\"Resident_Service.NAME\": \"residence\", \n",
    "                     \"ADMISSION_DATE_TIME\": \"ad_date_time\",\n",
    "                     \"DISCHARGE_DATE_TIME\": \"dis_date_time\"})"
   ]
  },
  {
   "cell_type": "code",
   "execution_count": 209,
   "metadata": {},
   "outputs": [
    {
     "data": {
      "text/html": [
       "<div>\n",
       "<style scoped>\n",
       "    .dataframe tbody tr th:only-of-type {\n",
       "        vertical-align: middle;\n",
       "    }\n",
       "\n",
       "    .dataframe tbody tr th {\n",
       "        vertical-align: top;\n",
       "    }\n",
       "\n",
       "    .dataframe thead th {\n",
       "        text-align: right;\n",
       "    }\n",
       "</style>\n",
       "<table border=\"1\" class=\"dataframe\">\n",
       "  <thead>\n",
       "    <tr style=\"text-align: right;\">\n",
       "      <th></th>\n",
       "      <th>StudyID</th>\n",
       "      <th>residence</th>\n",
       "      <th>ad_date_time</th>\n",
       "      <th>dis_date_time</th>\n",
       "    </tr>\n",
       "  </thead>\n",
       "  <tbody>\n",
       "    <tr>\n",
       "      <th>0</th>\n",
       "      <td>458495</td>\n",
       "      <td>Internal Medicine B</td>\n",
       "      <td>2014-04-01 02:15:00</td>\n",
       "      <td>2014-04-03 16:30:00</td>\n",
       "    </tr>\n",
       "    <tr>\n",
       "      <th>1</th>\n",
       "      <td>1212197</td>\n",
       "      <td>Internal Medicine D</td>\n",
       "      <td>2014-04-01 04:21:00</td>\n",
       "      <td>2014-04-17 22:37:00</td>\n",
       "    </tr>\n",
       "    <tr>\n",
       "      <th>2</th>\n",
       "      <td>507244</td>\n",
       "      <td>Internal Medicine D</td>\n",
       "      <td>2014-04-01 04:30:00</td>\n",
       "      <td>2014-04-03 17:05:00</td>\n",
       "    </tr>\n",
       "    <tr>\n",
       "      <th>3</th>\n",
       "      <td>202030</td>\n",
       "      <td>Internal Medicine E</td>\n",
       "      <td>2014-04-01 04:30:00</td>\n",
       "      <td>2014-04-04 17:12:00</td>\n",
       "    </tr>\n",
       "    <tr>\n",
       "      <th>4</th>\n",
       "      <td>460987</td>\n",
       "      <td>Internal Medicine C</td>\n",
       "      <td>2014-04-01 07:50:00</td>\n",
       "      <td>2014-04-08 19:15:00</td>\n",
       "    </tr>\n",
       "  </tbody>\n",
       "</table>\n",
       "</div>"
      ],
      "text/plain": [
       "   StudyID            residence        ad_date_time       dis_date_time\n",
       "0   458495  Internal Medicine B 2014-04-01 02:15:00 2014-04-03 16:30:00\n",
       "1  1212197  Internal Medicine D 2014-04-01 04:21:00 2014-04-17 22:37:00\n",
       "2   507244  Internal Medicine D 2014-04-01 04:30:00 2014-04-03 17:05:00\n",
       "3   202030  Internal Medicine E 2014-04-01 04:30:00 2014-04-04 17:12:00\n",
       "4   460987  Internal Medicine C 2014-04-01 07:50:00 2014-04-08 19:15:00"
      ]
     },
     "execution_count": 209,
     "metadata": {},
     "output_type": "execute_result"
    }
   ],
   "source": [
    "data.head()"
   ]
  },
  {
   "cell_type": "markdown",
   "metadata": {},
   "source": [
    "## Length of Stay"
   ]
  },
  {
   "cell_type": "code",
   "execution_count": 210,
   "metadata": {},
   "outputs": [],
   "source": [
    "data['los'] = data['dis_date_time']-data['ad_date_time']\n",
    "data['los'] = data['los']/np.timedelta64(24,'h')"
   ]
  },
  {
   "cell_type": "code",
   "execution_count": 211,
   "metadata": {},
   "outputs": [
    {
     "data": {
      "text/html": [
       "<div>\n",
       "<style scoped>\n",
       "    .dataframe tbody tr th:only-of-type {\n",
       "        vertical-align: middle;\n",
       "    }\n",
       "\n",
       "    .dataframe tbody tr th {\n",
       "        vertical-align: top;\n",
       "    }\n",
       "\n",
       "    .dataframe thead th {\n",
       "        text-align: right;\n",
       "    }\n",
       "</style>\n",
       "<table border=\"1\" class=\"dataframe\">\n",
       "  <thead>\n",
       "    <tr style=\"text-align: right;\">\n",
       "      <th></th>\n",
       "      <th>StudyID</th>\n",
       "      <th>residence</th>\n",
       "      <th>ad_date_time</th>\n",
       "      <th>dis_date_time</th>\n",
       "      <th>los</th>\n",
       "    </tr>\n",
       "  </thead>\n",
       "  <tbody>\n",
       "    <tr>\n",
       "      <th>0</th>\n",
       "      <td>458495</td>\n",
       "      <td>Internal Medicine B</td>\n",
       "      <td>2014-04-01 02:15:00</td>\n",
       "      <td>2014-04-03 16:30:00</td>\n",
       "      <td>2.593750</td>\n",
       "    </tr>\n",
       "    <tr>\n",
       "      <th>1</th>\n",
       "      <td>1212197</td>\n",
       "      <td>Internal Medicine D</td>\n",
       "      <td>2014-04-01 04:21:00</td>\n",
       "      <td>2014-04-17 22:37:00</td>\n",
       "      <td>16.761111</td>\n",
       "    </tr>\n",
       "    <tr>\n",
       "      <th>2</th>\n",
       "      <td>507244</td>\n",
       "      <td>Internal Medicine D</td>\n",
       "      <td>2014-04-01 04:30:00</td>\n",
       "      <td>2014-04-03 17:05:00</td>\n",
       "      <td>2.524306</td>\n",
       "    </tr>\n",
       "    <tr>\n",
       "      <th>3</th>\n",
       "      <td>202030</td>\n",
       "      <td>Internal Medicine E</td>\n",
       "      <td>2014-04-01 04:30:00</td>\n",
       "      <td>2014-04-04 17:12:00</td>\n",
       "      <td>3.529167</td>\n",
       "    </tr>\n",
       "    <tr>\n",
       "      <th>4</th>\n",
       "      <td>460987</td>\n",
       "      <td>Internal Medicine C</td>\n",
       "      <td>2014-04-01 07:50:00</td>\n",
       "      <td>2014-04-08 19:15:00</td>\n",
       "      <td>7.475694</td>\n",
       "    </tr>\n",
       "  </tbody>\n",
       "</table>\n",
       "</div>"
      ],
      "text/plain": [
       "   StudyID            residence        ad_date_time       dis_date_time  \\\n",
       "0   458495  Internal Medicine B 2014-04-01 02:15:00 2014-04-03 16:30:00   \n",
       "1  1212197  Internal Medicine D 2014-04-01 04:21:00 2014-04-17 22:37:00   \n",
       "2   507244  Internal Medicine D 2014-04-01 04:30:00 2014-04-03 17:05:00   \n",
       "3   202030  Internal Medicine E 2014-04-01 04:30:00 2014-04-04 17:12:00   \n",
       "4   460987  Internal Medicine C 2014-04-01 07:50:00 2014-04-08 19:15:00   \n",
       "\n",
       "         los  \n",
       "0   2.593750  \n",
       "1  16.761111  \n",
       "2   2.524306  \n",
       "3   3.529167  \n",
       "4   7.475694  "
      ]
     },
     "execution_count": 211,
     "metadata": {},
     "output_type": "execute_result"
    }
   ],
   "source": [
    "data.head()"
   ]
  },
  {
   "cell_type": "code",
   "execution_count": 212,
   "metadata": {},
   "outputs": [
    {
     "data": {
      "text/html": [
       "<div>\n",
       "<style scoped>\n",
       "    .dataframe tbody tr th:only-of-type {\n",
       "        vertical-align: middle;\n",
       "    }\n",
       "\n",
       "    .dataframe tbody tr th {\n",
       "        vertical-align: top;\n",
       "    }\n",
       "\n",
       "    .dataframe thead th {\n",
       "        text-align: right;\n",
       "    }\n",
       "</style>\n",
       "<table border=\"1\" class=\"dataframe\">\n",
       "  <thead>\n",
       "    <tr style=\"text-align: right;\">\n",
       "      <th></th>\n",
       "      <th>StudyID</th>\n",
       "      <th>residence</th>\n",
       "      <th>ad_date_time</th>\n",
       "      <th>dis_date_time</th>\n",
       "      <th>los</th>\n",
       "    </tr>\n",
       "    <tr>\n",
       "      <th>idx</th>\n",
       "      <th></th>\n",
       "      <th></th>\n",
       "      <th></th>\n",
       "      <th></th>\n",
       "      <th></th>\n",
       "    </tr>\n",
       "  </thead>\n",
       "  <tbody>\n",
       "    <tr>\n",
       "      <th>2014-04-01 02:15:00</th>\n",
       "      <td>458495</td>\n",
       "      <td>Internal Medicine B</td>\n",
       "      <td>2014-04-01 02:15:00</td>\n",
       "      <td>2014-04-03 16:30:00</td>\n",
       "      <td>2.593750</td>\n",
       "    </tr>\n",
       "    <tr>\n",
       "      <th>2014-04-01 04:21:00</th>\n",
       "      <td>1212197</td>\n",
       "      <td>Internal Medicine D</td>\n",
       "      <td>2014-04-01 04:21:00</td>\n",
       "      <td>2014-04-17 22:37:00</td>\n",
       "      <td>16.761111</td>\n",
       "    </tr>\n",
       "    <tr>\n",
       "      <th>2014-04-01 04:30:00</th>\n",
       "      <td>507244</td>\n",
       "      <td>Internal Medicine D</td>\n",
       "      <td>2014-04-01 04:30:00</td>\n",
       "      <td>2014-04-03 17:05:00</td>\n",
       "      <td>2.524306</td>\n",
       "    </tr>\n",
       "    <tr>\n",
       "      <th>2014-04-01 04:30:00</th>\n",
       "      <td>202030</td>\n",
       "      <td>Internal Medicine E</td>\n",
       "      <td>2014-04-01 04:30:00</td>\n",
       "      <td>2014-04-04 17:12:00</td>\n",
       "      <td>3.529167</td>\n",
       "    </tr>\n",
       "    <tr>\n",
       "      <th>2014-04-01 07:50:00</th>\n",
       "      <td>460987</td>\n",
       "      <td>Internal Medicine C</td>\n",
       "      <td>2014-04-01 07:50:00</td>\n",
       "      <td>2014-04-08 19:15:00</td>\n",
       "      <td>7.475694</td>\n",
       "    </tr>\n",
       "  </tbody>\n",
       "</table>\n",
       "</div>"
      ],
      "text/plain": [
       "                     StudyID            residence        ad_date_time  \\\n",
       "idx                                                                     \n",
       "2014-04-01 02:15:00   458495  Internal Medicine B 2014-04-01 02:15:00   \n",
       "2014-04-01 04:21:00  1212197  Internal Medicine D 2014-04-01 04:21:00   \n",
       "2014-04-01 04:30:00   507244  Internal Medicine D 2014-04-01 04:30:00   \n",
       "2014-04-01 04:30:00   202030  Internal Medicine E 2014-04-01 04:30:00   \n",
       "2014-04-01 07:50:00   460987  Internal Medicine C 2014-04-01 07:50:00   \n",
       "\n",
       "                          dis_date_time        los  \n",
       "idx                                                 \n",
       "2014-04-01 02:15:00 2014-04-03 16:30:00   2.593750  \n",
       "2014-04-01 04:21:00 2014-04-17 22:37:00  16.761111  \n",
       "2014-04-01 04:30:00 2014-04-03 17:05:00   2.524306  \n",
       "2014-04-01 04:30:00 2014-04-04 17:12:00   3.529167  \n",
       "2014-04-01 07:50:00 2014-04-08 19:15:00   7.475694  "
      ]
     },
     "execution_count": 212,
     "metadata": {},
     "output_type": "execute_result"
    }
   ],
   "source": [
    "data['idx'] = pd.to_datetime(data['ad_date_time'])\n",
    "data = data.set_index('idx')\n",
    "data.head()"
   ]
  },
  {
   "cell_type": "code",
   "execution_count": null,
   "metadata": {},
   "outputs": [],
   "source": []
  },
  {
   "cell_type": "markdown",
   "metadata": {},
   "source": [
    "## CORRECT way of calculating bed occupancy"
   ]
  },
  {
   "cell_type": "code",
   "execution_count": 213,
   "metadata": {},
   "outputs": [],
   "source": [
    "aux_1 = data['ad_date_time'].values\n",
    "aux_2 = data['dis_date_time'].values\n",
    "\n",
    "vaux_1 = np.ones(len(aux_1))\n",
    "vaux_2 = -1*np.ones(len(aux_2))\n",
    "\n",
    "aux = np.concatenate([aux_1, aux_2])\n",
    "vaux = np.concatenate([vaux_1,vaux_2])\n",
    "\n",
    "sort = np.argsort(aux)\n",
    "\n",
    "aux = aux[sort]\n",
    "vaux = vaux[sort]\n",
    "bo = np.cumsum(vaux)"
   ]
  },
  {
   "cell_type": "code",
   "execution_count": 214,
   "metadata": {},
   "outputs": [],
   "source": [
    "aux_dic = {'keys':aux, 'dates': aux, 'ad_dis': vaux, 'bo': bo}\n",
    "df = pd.DataFrame.from_dict(aux_dic)\n",
    "df = df.set_index('keys')\n",
    "\n",
    "start_date = '2014-05-01'\n",
    "end_date = '2019-04-01'\n",
    "df = df[(df['dates'] > start_date) & (df['dates'] < end_date)]"
   ]
  },
  {
   "cell_type": "code",
   "execution_count": 215,
   "metadata": {},
   "outputs": [
    {
     "data": {
      "text/html": [
       "<div>\n",
       "<style scoped>\n",
       "    .dataframe tbody tr th:only-of-type {\n",
       "        vertical-align: middle;\n",
       "    }\n",
       "\n",
       "    .dataframe tbody tr th {\n",
       "        vertical-align: top;\n",
       "    }\n",
       "\n",
       "    .dataframe thead th {\n",
       "        text-align: right;\n",
       "    }\n",
       "</style>\n",
       "<table border=\"1\" class=\"dataframe\">\n",
       "  <thead>\n",
       "    <tr style=\"text-align: right;\">\n",
       "      <th></th>\n",
       "      <th>dates</th>\n",
       "      <th>ad_dis</th>\n",
       "      <th>bo</th>\n",
       "    </tr>\n",
       "    <tr>\n",
       "      <th>keys</th>\n",
       "      <th></th>\n",
       "      <th></th>\n",
       "      <th></th>\n",
       "    </tr>\n",
       "  </thead>\n",
       "  <tbody>\n",
       "    <tr>\n",
       "      <th>2014-05-01 00:25:00</th>\n",
       "      <td>2014-05-01 00:25:00</td>\n",
       "      <td>1.0</td>\n",
       "      <td>90.0</td>\n",
       "    </tr>\n",
       "    <tr>\n",
       "      <th>2014-05-01 01:30:00</th>\n",
       "      <td>2014-05-01 01:30:00</td>\n",
       "      <td>1.0</td>\n",
       "      <td>91.0</td>\n",
       "    </tr>\n",
       "    <tr>\n",
       "      <th>2014-05-01 01:45:00</th>\n",
       "      <td>2014-05-01 01:45:00</td>\n",
       "      <td>1.0</td>\n",
       "      <td>92.0</td>\n",
       "    </tr>\n",
       "    <tr>\n",
       "      <th>2014-05-01 01:50:00</th>\n",
       "      <td>2014-05-01 01:50:00</td>\n",
       "      <td>1.0</td>\n",
       "      <td>93.0</td>\n",
       "    </tr>\n",
       "    <tr>\n",
       "      <th>2014-05-01 03:20:00</th>\n",
       "      <td>2014-05-01 03:20:00</td>\n",
       "      <td>1.0</td>\n",
       "      <td>94.0</td>\n",
       "    </tr>\n",
       "  </tbody>\n",
       "</table>\n",
       "</div>"
      ],
      "text/plain": [
       "                                  dates  ad_dis    bo\n",
       "keys                                                 \n",
       "2014-05-01 00:25:00 2014-05-01 00:25:00     1.0  90.0\n",
       "2014-05-01 01:30:00 2014-05-01 01:30:00     1.0  91.0\n",
       "2014-05-01 01:45:00 2014-05-01 01:45:00     1.0  92.0\n",
       "2014-05-01 01:50:00 2014-05-01 01:50:00     1.0  93.0\n",
       "2014-05-01 03:20:00 2014-05-01 03:20:00     1.0  94.0"
      ]
     },
     "execution_count": 215,
     "metadata": {},
     "output_type": "execute_result"
    }
   ],
   "source": [
    "df.head()"
   ]
  },
  {
   "cell_type": "code",
   "execution_count": 216,
   "metadata": {},
   "outputs": [
    {
     "data": {
      "image/png": "[encoded data removed]",
      "text/plain": [
       "<Figure size 720x360 with 1 Axes>"
      ]
     },
     "metadata": {
      "needs_background": "light"
     },
     "output_type": "display_data"
    }
   ],
   "source": [
    "plt.figure(figsize=(10,5))\n",
    "df['ad_dis'].iloc[3000:4000].plot()\n",
    "plt.show()"
   ]
  },
  {
   "cell_type": "code",
   "execution_count": 252,
   "metadata": {},
   "outputs": [
    {
     "data": {
      "image/png": "[encoded data removed]",
      "text/plain": [
       "<Figure size 720x360 with 1 Axes>"
      ]
     },
     "metadata": {
      "needs_background": "light"
     },
     "output_type": "display_data"
    }
   ],
   "source": [
    "plt.figure(figsize=(10,5))\n",
    "df['bo'].iloc[0:500].plot()\n",
    "plt.show()"
   ]
  },
  {
   "cell_type": "markdown",
   "metadata": {},
   "source": [
    "## Time deltas"
   ]
  },
  {
   "cell_type": "code",
   "execution_count": 218,
   "metadata": {},
   "outputs": [],
   "source": [
    "aux_1 = data['ad_date_time'].values\n",
    "aux_2 = data['dis_date_time'].values\n",
    "\n",
    "vaux_1 = np.ones(len(aux_1))\n",
    "vaux_2 = np.ones(len(aux_2))\n",
    "\n",
    "\n",
    "sort_1 = np.argsort(aux_1)\n",
    "sort_2 = np.argsort(aux_2)\n",
    "\n",
    "\n",
    "\n",
    "aux_1 = aux_1[sort_1]\n",
    "vaux_1 = vaux[sort_1]\n",
    "\n",
    "aux_2 = aux_2[sort_2]\n",
    "vaux_2 = vaux_2[sort_2]"
   ]
  },
  {
   "cell_type": "code",
   "execution_count": 219,
   "metadata": {},
   "outputs": [],
   "source": [
    "aux_dic = {'keys':aux_1, 'dates': aux_1, 'ad_dis': vaux_1}\n",
    "df_1 = pd.DataFrame.from_dict(aux_dic)\n",
    "df_1 = df_1.set_index('keys')"
   ]
  },
  {
   "cell_type": "code",
   "execution_count": 220,
   "metadata": {},
   "outputs": [],
   "source": [
    "aux_dic = {'keys':aux_2, 'dates': aux_2, 'ad_dis': vaux_2}\n",
    "df_2 = pd.DataFrame.from_dict(aux_dic)\n",
    "df_2 = df_2.set_index('keys')"
   ]
  },
  {
   "cell_type": "code",
   "execution_count": 221,
   "metadata": {},
   "outputs": [],
   "source": [
    "df_1['delta'] = (df_1['dates']-df_1['dates'].shift()).fillna(pd.Timedelta('0 days'))\n",
    "df_2['delta'] = (df_2['dates']-df_2['dates'].shift()).fillna(pd.Timedelta('0 days'))"
   ]
  },
  {
   "cell_type": "markdown",
   "metadata": {},
   "source": [
    "#### Mean time between admissions"
   ]
  },
  {
   "cell_type": "code",
   "execution_count": 244,
   "metadata": {},
   "outputs": [
    {
     "data": {
      "text/plain": [
       "numpy.timedelta64(6496066707844,'ns')"
      ]
     },
     "execution_count": 244,
     "metadata": {},
     "output_type": "execute_result"
    }
   ],
   "source": [
    "np.mean(df_1['delta'].dropna().values)"
   ]
  },
  {
   "cell_type": "code",
   "execution_count": 245,
   "metadata": {},
   "outputs": [
    {
     "name": "stdout",
     "output_type": "stream",
     "text": [
      "Mean time between admissions: 1.8044629744011111\n"
     ]
    }
   ],
   "source": [
    "print('Mean time between admissions (h):',6496066707844*1e-9/3600 )"
   ]
  },
  {
   "cell_type": "markdown",
   "metadata": {},
   "source": [
    "#### Mean time between discharges"
   ]
  },
  {
   "cell_type": "code",
   "execution_count": 247,
   "metadata": {},
   "outputs": [
    {
     "data": {
      "text/plain": [
       "numpy.timedelta64(6867602223594,'ns')"
      ]
     },
     "execution_count": 247,
     "metadata": {},
     "output_type": "execute_result"
    }
   ],
   "source": [
    "np.mean(df_2['delta'].dropna().values)"
   ]
  },
  {
   "cell_type": "code",
   "execution_count": 248,
   "metadata": {},
   "outputs": [
    {
     "name": "stdout",
     "output_type": "stream",
     "text": [
      "Mean time between admissions (h): 1.9076672843316669\n"
     ]
    }
   ],
   "source": [
    "print('Mean time between admissions (h):',6867602223594*1e-9/3600 )"
   ]
  },
  {
   "cell_type": "code",
   "execution_count": null,
   "metadata": {},
   "outputs": [],
   "source": []
  }
 ],
 "metadata": {
  "kernelspec": {
   "display_name": "Python 3",
   "language": "python",
   "name": "python3"
  },
  "language_info": {
   "codemirror_mode": {
    "name": "ipython",
    "version": 3
   },
   "file_extension": ".py",
   "mimetype": "text/x-python",
   "name": "python",
   "nbconvert_exporter": "python",
   "pygments_lexer": "ipython3",
   "version": "3.7.4"
  }
 },
 "nbformat": 4,
 "nbformat_minor": 2
}
