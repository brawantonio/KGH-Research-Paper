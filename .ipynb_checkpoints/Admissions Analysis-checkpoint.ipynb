{
 "cells": [
  {
   "cell_type": "code",
   "execution_count": 57,
   "metadata": {},
   "outputs": [],
   "source": [
    "import pandas as pd\n",
    "from datetime import timedelta\n",
    "import datetime as dt\n",
    "import numpy as np\n",
    "\n",
    "from matplotlib import cm\n",
    "import matplotlib.pyplot as plt\n",
    "plt.rcParams[\"font.family\"] = \"serif\"\n",
    "plt.rcParams[\"mathtext.fontset\"] = \"dejavuserif\""
   ]
  },
  {
   "cell_type": "code",
   "execution_count": 58,
   "metadata": {},
   "outputs": [],
   "source": [
    "data = pd.read_csv('bedoccupancy.csv',\n",
    "                   parse_dates=['ADMISSION_DATE_TIME', 'DISCHARGE_DATE_TIME'])\n",
    "\n",
    "data = data.rename(columns={\"Resident_Service.NAME\": \"residence\", \n",
    "                     \"ADMISSION_DATE_TIME\": \"ad_date_time\",\n",
    "                     \"DISCHARGE_DATE_TIME\": \"dis_date_time\"})"
   ]
  },
  {
   "cell_type": "code",
   "execution_count": 59,
   "metadata": {},
   "outputs": [
    {
     "data": {
      "text/html": [
       "<div>\n",
       "<style scoped>\n",
       "    .dataframe tbody tr th:only-of-type {\n",
       "        vertical-align: middle;\n",
       "    }\n",
       "\n",
       "    .dataframe tbody tr th {\n",
       "        vertical-align: top;\n",
       "    }\n",
       "\n",
       "    .dataframe thead th {\n",
       "        text-align: right;\n",
       "    }\n",
       "</style>\n",
       "<table border=\"1\" class=\"dataframe\">\n",
       "  <thead>\n",
       "    <tr style=\"text-align: right;\">\n",
       "      <th></th>\n",
       "      <th>StudyID</th>\n",
       "      <th>residence</th>\n",
       "      <th>ad_date_time</th>\n",
       "      <th>dis_date_time</th>\n",
       "    </tr>\n",
       "  </thead>\n",
       "  <tbody>\n",
       "    <tr>\n",
       "      <th>0</th>\n",
       "      <td>458495</td>\n",
       "      <td>Internal Medicine B</td>\n",
       "      <td>2014-04-01 02:15:00</td>\n",
       "      <td>2014-04-03 16:30:00</td>\n",
       "    </tr>\n",
       "    <tr>\n",
       "      <th>1</th>\n",
       "      <td>1212197</td>\n",
       "      <td>Internal Medicine D</td>\n",
       "      <td>2014-04-01 04:21:00</td>\n",
       "      <td>2014-04-17 22:37:00</td>\n",
       "    </tr>\n",
       "    <tr>\n",
       "      <th>2</th>\n",
       "      <td>507244</td>\n",
       "      <td>Internal Medicine D</td>\n",
       "      <td>2014-04-01 04:30:00</td>\n",
       "      <td>2014-04-03 17:05:00</td>\n",
       "    </tr>\n",
       "    <tr>\n",
       "      <th>3</th>\n",
       "      <td>202030</td>\n",
       "      <td>Internal Medicine E</td>\n",
       "      <td>2014-04-01 04:30:00</td>\n",
       "      <td>2014-04-04 17:12:00</td>\n",
       "    </tr>\n",
       "    <tr>\n",
       "      <th>4</th>\n",
       "      <td>460987</td>\n",
       "      <td>Internal Medicine C</td>\n",
       "      <td>2014-04-01 07:50:00</td>\n",
       "      <td>2014-04-08 19:15:00</td>\n",
       "    </tr>\n",
       "  </tbody>\n",
       "</table>\n",
       "</div>"
      ],
      "text/plain": [
       "   StudyID            residence        ad_date_time       dis_date_time\n",
       "0   458495  Internal Medicine B 2014-04-01 02:15:00 2014-04-03 16:30:00\n",
       "1  1212197  Internal Medicine D 2014-04-01 04:21:00 2014-04-17 22:37:00\n",
       "2   507244  Internal Medicine D 2014-04-01 04:30:00 2014-04-03 17:05:00\n",
       "3   202030  Internal Medicine E 2014-04-01 04:30:00 2014-04-04 17:12:00\n",
       "4   460987  Internal Medicine C 2014-04-01 07:50:00 2014-04-08 19:15:00"
      ]
     },
     "execution_count": 59,
     "metadata": {},
     "output_type": "execute_result"
    }
   ],
   "source": [
    "data.head()"
   ]
  },
  {
   "cell_type": "markdown",
   "metadata": {},
   "source": [
    "## Length of Stay"
   ]
  },
  {
   "cell_type": "code",
   "execution_count": 60,
   "metadata": {},
   "outputs": [],
   "source": [
    "data['los'] = data['dis_date_time']-data['ad_date_time']\n",
    "data['los'] = data['los']/np.timedelta64(24,'h')"
   ]
  },
  {
   "cell_type": "code",
   "execution_count": 61,
   "metadata": {},
   "outputs": [
    {
     "data": {
      "text/html": [
       "<div>\n",
       "<style scoped>\n",
       "    .dataframe tbody tr th:only-of-type {\n",
       "        vertical-align: middle;\n",
       "    }\n",
       "\n",
       "    .dataframe tbody tr th {\n",
       "        vertical-align: top;\n",
       "    }\n",
       "\n",
       "    .dataframe thead th {\n",
       "        text-align: right;\n",
       "    }\n",
       "</style>\n",
       "<table border=\"1\" class=\"dataframe\">\n",
       "  <thead>\n",
       "    <tr style=\"text-align: right;\">\n",
       "      <th></th>\n",
       "      <th>StudyID</th>\n",
       "      <th>residence</th>\n",
       "      <th>ad_date_time</th>\n",
       "      <th>dis_date_time</th>\n",
       "      <th>los</th>\n",
       "    </tr>\n",
       "  </thead>\n",
       "  <tbody>\n",
       "    <tr>\n",
       "      <th>0</th>\n",
       "      <td>458495</td>\n",
       "      <td>Internal Medicine B</td>\n",
       "      <td>2014-04-01 02:15:00</td>\n",
       "      <td>2014-04-03 16:30:00</td>\n",
       "      <td>2.593750</td>\n",
       "    </tr>\n",
       "    <tr>\n",
       "      <th>1</th>\n",
       "      <td>1212197</td>\n",
       "      <td>Internal Medicine D</td>\n",
       "      <td>2014-04-01 04:21:00</td>\n",
       "      <td>2014-04-17 22:37:00</td>\n",
       "      <td>16.761111</td>\n",
       "    </tr>\n",
       "    <tr>\n",
       "      <th>2</th>\n",
       "      <td>507244</td>\n",
       "      <td>Internal Medicine D</td>\n",
       "      <td>2014-04-01 04:30:00</td>\n",
       "      <td>2014-04-03 17:05:00</td>\n",
       "      <td>2.524306</td>\n",
       "    </tr>\n",
       "    <tr>\n",
       "      <th>3</th>\n",
       "      <td>202030</td>\n",
       "      <td>Internal Medicine E</td>\n",
       "      <td>2014-04-01 04:30:00</td>\n",
       "      <td>2014-04-04 17:12:00</td>\n",
       "      <td>3.529167</td>\n",
       "    </tr>\n",
       "    <tr>\n",
       "      <th>4</th>\n",
       "      <td>460987</td>\n",
       "      <td>Internal Medicine C</td>\n",
       "      <td>2014-04-01 07:50:00</td>\n",
       "      <td>2014-04-08 19:15:00</td>\n",
       "      <td>7.475694</td>\n",
       "    </tr>\n",
       "  </tbody>\n",
       "</table>\n",
       "</div>"
      ],
      "text/plain": [
       "   StudyID            residence        ad_date_time       dis_date_time  \\\n",
       "0   458495  Internal Medicine B 2014-04-01 02:15:00 2014-04-03 16:30:00   \n",
       "1  1212197  Internal Medicine D 2014-04-01 04:21:00 2014-04-17 22:37:00   \n",
       "2   507244  Internal Medicine D 2014-04-01 04:30:00 2014-04-03 17:05:00   \n",
       "3   202030  Internal Medicine E 2014-04-01 04:30:00 2014-04-04 17:12:00   \n",
       "4   460987  Internal Medicine C 2014-04-01 07:50:00 2014-04-08 19:15:00   \n",
       "\n",
       "         los  \n",
       "0   2.593750  \n",
       "1  16.761111  \n",
       "2   2.524306  \n",
       "3   3.529167  \n",
       "4   7.475694  "
      ]
     },
     "execution_count": 61,
     "metadata": {},
     "output_type": "execute_result"
    }
   ],
   "source": [
    "data.head()"
   ]
  },
  {
   "cell_type": "code",
   "execution_count": 62,
   "metadata": {},
   "outputs": [
    {
     "data": {
      "text/html": [
       "<div>\n",
       "<style scoped>\n",
       "    .dataframe tbody tr th:only-of-type {\n",
       "        vertical-align: middle;\n",
       "    }\n",
       "\n",
       "    .dataframe tbody tr th {\n",
       "        vertical-align: top;\n",
       "    }\n",
       "\n",
       "    .dataframe thead th {\n",
       "        text-align: right;\n",
       "    }\n",
       "</style>\n",
       "<table border=\"1\" class=\"dataframe\">\n",
       "  <thead>\n",
       "    <tr style=\"text-align: right;\">\n",
       "      <th></th>\n",
       "      <th>StudyID</th>\n",
       "      <th>residence</th>\n",
       "      <th>ad_date_time</th>\n",
       "      <th>dis_date_time</th>\n",
       "      <th>los</th>\n",
       "    </tr>\n",
       "    <tr>\n",
       "      <th>idx</th>\n",
       "      <th></th>\n",
       "      <th></th>\n",
       "      <th></th>\n",
       "      <th></th>\n",
       "      <th></th>\n",
       "    </tr>\n",
       "  </thead>\n",
       "  <tbody>\n",
       "    <tr>\n",
       "      <th>2014-04-01 02:15:00</th>\n",
       "      <td>458495</td>\n",
       "      <td>Internal Medicine B</td>\n",
       "      <td>2014-04-01 02:15:00</td>\n",
       "      <td>2014-04-03 16:30:00</td>\n",
       "      <td>2.593750</td>\n",
       "    </tr>\n",
       "    <tr>\n",
       "      <th>2014-04-01 04:21:00</th>\n",
       "      <td>1212197</td>\n",
       "      <td>Internal Medicine D</td>\n",
       "      <td>2014-04-01 04:21:00</td>\n",
       "      <td>2014-04-17 22:37:00</td>\n",
       "      <td>16.761111</td>\n",
       "    </tr>\n",
       "    <tr>\n",
       "      <th>2014-04-01 04:30:00</th>\n",
       "      <td>507244</td>\n",
       "      <td>Internal Medicine D</td>\n",
       "      <td>2014-04-01 04:30:00</td>\n",
       "      <td>2014-04-03 17:05:00</td>\n",
       "      <td>2.524306</td>\n",
       "    </tr>\n",
       "    <tr>\n",
       "      <th>2014-04-01 04:30:00</th>\n",
       "      <td>202030</td>\n",
       "      <td>Internal Medicine E</td>\n",
       "      <td>2014-04-01 04:30:00</td>\n",
       "      <td>2014-04-04 17:12:00</td>\n",
       "      <td>3.529167</td>\n",
       "    </tr>\n",
       "    <tr>\n",
       "      <th>2014-04-01 07:50:00</th>\n",
       "      <td>460987</td>\n",
       "      <td>Internal Medicine C</td>\n",
       "      <td>2014-04-01 07:50:00</td>\n",
       "      <td>2014-04-08 19:15:00</td>\n",
       "      <td>7.475694</td>\n",
       "    </tr>\n",
       "  </tbody>\n",
       "</table>\n",
       "</div>"
      ],
      "text/plain": [
       "                     StudyID            residence        ad_date_time  \\\n",
       "idx                                                                     \n",
       "2014-04-01 02:15:00   458495  Internal Medicine B 2014-04-01 02:15:00   \n",
       "2014-04-01 04:21:00  1212197  Internal Medicine D 2014-04-01 04:21:00   \n",
       "2014-04-01 04:30:00   507244  Internal Medicine D 2014-04-01 04:30:00   \n",
       "2014-04-01 04:30:00   202030  Internal Medicine E 2014-04-01 04:30:00   \n",
       "2014-04-01 07:50:00   460987  Internal Medicine C 2014-04-01 07:50:00   \n",
       "\n",
       "                          dis_date_time        los  \n",
       "idx                                                 \n",
       "2014-04-01 02:15:00 2014-04-03 16:30:00   2.593750  \n",
       "2014-04-01 04:21:00 2014-04-17 22:37:00  16.761111  \n",
       "2014-04-01 04:30:00 2014-04-03 17:05:00   2.524306  \n",
       "2014-04-01 04:30:00 2014-04-04 17:12:00   3.529167  \n",
       "2014-04-01 07:50:00 2014-04-08 19:15:00   7.475694  "
      ]
     },
     "execution_count": 62,
     "metadata": {},
     "output_type": "execute_result"
    }
   ],
   "source": [
    "data['idx'] = pd.to_datetime(data['ad_date_time'])\n",
    "data = data.set_index('idx')\n",
    "data.head()"
   ]
  },
  {
   "cell_type": "code",
   "execution_count": 84,
   "metadata": {},
   "outputs": [],
   "source": [
    "aux_1 = data['ad_date_time'].values\n",
    "aux_2 = data['dis_date_time'].values\n",
    "\n",
    "vaux_1 = np.ones(len(aux_1))\n",
    "vaux_2 = -1*np.ones(len(aux_2))\n",
    "\n",
    "aux = np.concatenate([aux_1, aux_2])\n",
    "vaux = np.concatenate([vaux_1,vaux_2])\n",
    "\n",
    "sort = np.argsort(aux)\n",
    "\n",
    "aux = aux[sort]\n",
    "vaux = vaux[sort]\n",
    "bo = np.cumsum(vaux)"
   ]
  },
  {
   "cell_type": "code",
   "execution_count": 85,
   "metadata": {},
   "outputs": [],
   "source": [
    "aux_dic = {'dates': aux, 'ad_dis': vaux, 'bo': bo}\n",
    "df = pd.DataFrame.from_dict(aux_dic)\n",
    "df = df.set_index('dates')"
   ]
  },
  {
   "cell_type": "code",
   "execution_count": 90,
   "metadata": {},
   "outputs": [
    {
     "data": {
      "image/png": "[encoded data removed]",
      "text/plain": [
       "<Figure size 720x360 with 1 Axes>"
      ]
     },
     "metadata": {
      "needs_background": "light"
     },
     "output_type": "display_data"
    }
   ],
   "source": [
    "plt.figure(figsize=(10,5))\n",
    "df['ad_dis'].iloc[100:300].plot()\n",
    "plt.show()"
   ]
  },
  {
   "cell_type": "code",
   "execution_count": 91,
   "metadata": {},
   "outputs": [
    {
     "data": {
      "image/png": "[encoded data removed]",
      "text/plain": [
       "<Figure size 720x360 with 1 Axes>"
      ]
     },
     "metadata": {
      "needs_background": "light"
     },
     "output_type": "display_data"
    }
   ],
   "source": [
    "plt.figure(figsize=(10,5))\n",
    "df['bo'].iloc[100:300].plot()\n",
    "plt.show()"
   ]
  },
  {
   "cell_type": "code",
   "execution_count": null,
   "metadata": {},
   "outputs": [],
   "source": []
  },
  {
   "cell_type": "code",
   "execution_count": null,
   "metadata": {},
   "outputs": [],
   "source": []
  },
  {
   "cell_type": "code",
   "execution_count": null,
   "metadata": {},
   "outputs": [],
   "source": []
  },
  {
   "cell_type": "code",
   "execution_count": null,
   "metadata": {},
   "outputs": [],
   "source": []
  },
  {
   "cell_type": "code",
   "execution_count": null,
   "metadata": {},
   "outputs": [],
   "source": []
  },
  {
   "cell_type": "code",
   "execution_count": null,
   "metadata": {},
   "outputs": [],
   "source": []
  },
  {
   "cell_type": "code",
   "execution_count": null,
   "metadata": {},
   "outputs": [],
   "source": []
  }
 ],
 "metadata": {
  "kernelspec": {
   "display_name": "Python 3",
   "language": "python",
   "name": "python3"
  },
  "language_info": {
   "codemirror_mode": {
    "name": "ipython",
    "version": 3
   },
   "file_extension": ".py",
   "mimetype": "text/x-python",
   "name": "python",
   "nbconvert_exporter": "python",
   "pygments_lexer": "ipython3",
   "version": "3.7.4"
  }
 },
 "nbformat": 4,
 "nbformat_minor": 2
}
