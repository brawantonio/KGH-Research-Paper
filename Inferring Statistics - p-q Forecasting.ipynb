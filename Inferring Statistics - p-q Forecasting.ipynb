{
 "cells": [
  {
   "cell_type": "code",
   "execution_count": 1,
   "metadata": {},
   "outputs": [],
   "source": [
    "import pandas as pd\n",
    "from datetime import timedelta\n",
    "import numpy as np\n",
    "\n",
    "from matplotlib import cm\n",
    "import matplotlib.pyplot as plt\n",
    "plt.rcParams[\"font.family\"] = \"serif\"\n",
    "plt.rcParams[\"mathtext.fontset\"] = \"dejavuserif\""
   ]
  },
  {
   "cell_type": "code",
   "execution_count": 2,
   "metadata": {},
   "outputs": [],
   "source": [
    "from sklearn.neural_network import MLPRegressor\n",
    "from sklearn import tree\n",
    "from sklearn.ensemble import GradientBoostingRegressor\n",
    "from sklearn import svm\n",
    "from sklearn import linear_model\n",
    "\n",
    "from sklearn.metrics import mean_squared_error\n",
    "from sklearn.preprocessing import StandardScaler"
   ]
  },
  {
   "cell_type": "markdown",
   "metadata": {},
   "source": [
    "# Admissions Predictors"
   ]
  },
  {
   "cell_type": "code",
   "execution_count": 3,
   "metadata": {},
   "outputs": [],
   "source": [
    "aux = pd.read_csv('data.csv',  index_col=0, parse_dates=[0])\n",
    "df = pd.DataFrame(aux['occupancy'])\n",
    "\n",
    "df = df.tail(int(0.8*len(df)))"
   ]
  },
  {
   "cell_type": "code",
   "execution_count": null,
   "metadata": {},
   "outputs": [],
   "source": []
  },
  {
   "cell_type": "code",
   "execution_count": null,
   "metadata": {},
   "outputs": [],
   "source": []
  },
  {
   "cell_type": "markdown",
   "metadata": {},
   "source": [
    "## The Real Deal"
   ]
  },
  {
   "cell_type": "code",
   "execution_count": 4,
   "metadata": {},
   "outputs": [],
   "source": [
    "def decomp(df, p):\n",
    "    df['s_occupancy'] = df['occupancy'].ewm(span = p).mean()\n",
    "    df['r_occupancy'] = df['occupancy']-df['s_occupancy']\n",
    "    aux_df = df.dropna()\n",
    "    return df, aux_df"
   ]
  },
  {
   "cell_type": "code",
   "execution_count": 5,
   "metadata": {},
   "outputs": [],
   "source": [
    "def xy_matrices(df, key,q, l, transform = False):  \n",
    "    predictors_dict = {}\n",
    "    for i in range(len(df)-(q+l-1)):\n",
    "        predictors_dict[i] = df[key].iloc[i:i+q+l].values #the 1 is actually l\n",
    "        \n",
    "    predictors = pd.DataFrame(predictors_dict).T \n",
    "    \n",
    "    if transform :\n",
    "        predictors = transform(predictors) \n",
    "    \n",
    "    y = predictors[np.arange(q, q+l, 1)].values #here I need l dependence \n",
    "    x_predictors = predictors.drop(np.arange(q, q+l, 1), axis=1).values #here too\n",
    "    \n",
    "    return x_predictors, y"
   ]
  },
  {
   "cell_type": "code",
   "execution_count": 6,
   "metadata": {},
   "outputs": [],
   "source": [
    "def transform(df): #acts on dataframes, scaler is global function/variable\n",
    "    X = df.values\n",
    "    X = scaler.fit_transform(X)\n",
    "    return pd.DataFrame(X)"
   ]
  },
  {
   "cell_type": "code",
   "execution_count": 7,
   "metadata": {},
   "outputs": [],
   "source": [
    "def inverse_transform(X, y): #acts on arrays, scaler is global function/variable\n",
    "    aux = np.column_stack((X,y)) \n",
    "    aux = scaler.inverse_transform(aux)\n",
    "    return aux[:,-1]"
   ]
  },
  {
   "cell_type": "code",
   "execution_count": 8,
   "metadata": {},
   "outputs": [],
   "source": [
    "def chrono_split(X,y, f):\n",
    "    l = len(y)\n",
    "    X_train = X[0:int(f*l)]\n",
    "    X_test = X[int(f*l):]\n",
    "    y_train = y[0:int(f*l)]\n",
    "    y_test = y[int(f*l):]\n",
    "    return X_train, X_test, y_train, y_test"
   ]
  },
  {
   "cell_type": "code",
   "execution_count": 9,
   "metadata": {},
   "outputs": [],
   "source": [
    "def max_error(y_test, y_forecast):\n",
    "    return  np.max(np.abs(y_test-y_forecast))\n",
    "def abs_error(y_test, y_forecast):\n",
    "    return np.mean(np.abs(y_test-y_forecast))\n",
    "def rsm_error(y_test, y_forecast):\n",
    "    return np.sqrt(np.sum((y_test-y_forecast)**2))/np.sqrt(len(y_test))"
   ]
  },
  {
   "cell_type": "code",
   "execution_count": 10,
   "metadata": {},
   "outputs": [],
   "source": [
    "model_linear = linear_model.LinearRegression()\n",
    "model_nene = MLPRegressor(activation='relu',solver='lbfgs', alpha=1e-9,\n",
    "                    hidden_layer_sizes=(350, 350), random_state=0,\n",
    "                    max_iter=2000,  warm_start=True)\n",
    "model_tree = tree.DecisionTreeRegressor()\n",
    "model_gbr = GradientBoostingRegressor(n_estimators=750, learning_rate=0.1,\n",
    "                                      max_depth=1, random_state=0, loss='ls',\n",
    "                                      warm_start=True)\n",
    "model_svr = svm.SVR(gamma='auto')\n",
    "\n",
    "scaler = StandardScaler()"
   ]
  },
  {
   "cell_type": "code",
   "execution_count": 11,
   "metadata": {},
   "outputs": [],
   "source": [
    "models = {'linear':model_linear ,'nene': model_nene, 'tree': model_tree, \n",
    "          'gbr': model_gbr, 'svr': model_svr}\n",
    "errors = {'max':max_error ,'abs': abs_error, 'rsm':rsm_error}"
   ]
  },
  {
   "cell_type": "markdown",
   "metadata": {},
   "source": [
    "## Linear Model"
   ]
  },
  {
   "cell_type": "code",
   "execution_count": 12,
   "metadata": {},
   "outputs": [],
   "source": [
    "l = 7#forecast\n",
    "q = 35 #lagging\n",
    "\n",
    "f = 0.70\n",
    "X, y = xy_matrices(df,'occupancy' ,q, l, False)\n",
    "X_train, X_test, y_train, y_test = chrono_split(X, y, f)"
   ]
  },
  {
   "cell_type": "code",
   "execution_count": 13,
   "metadata": {},
   "outputs": [],
   "source": [
    "trials = {}\n",
    "ntrials = 300"
   ]
  },
  {
   "cell_type": "code",
   "execution_count": 14,
   "metadata": {},
   "outputs": [
    {
     "name": "stderr",
     "output_type": "stream",
     "text": [
      "/Users/brawantonio/opt/anaconda3/lib/python3.7/site-packages/sklearn/linear_model/base.py:503: RuntimeWarning: internal gelsd driver lwork query error, required iwork dimension not returned. This is likely the result of LAPACK bug 0038, fixed in LAPACK 3.2.2 (released July 21, 2010). Falling back to 'gelss' driver.\n",
      "  linalg.lstsq(X, y)\n"
     ]
    }
   ],
   "source": [
    "for i in range(0,ntrials):\n",
    "    mask = np.random.binomial(1,0.8, X_train.shape[0])\n",
    "    training = X_train[mask == 1]\n",
    "    target = y_train[mask == 1]\n",
    "    \n",
    "    trials[i] =  models['linear'].fit(training, target)"
   ]
  },
  {
   "cell_type": "code",
   "execution_count": 15,
   "metadata": {},
   "outputs": [],
   "source": [
    "walks = {}\n",
    "for i in range(0,ntrials):\n",
    "    walks[i] = trials[i].predict(X_test)"
   ]
  },
  {
   "cell_type": "code",
   "execution_count": 16,
   "metadata": {},
   "outputs": [],
   "source": [
    "prior = df.head(X_train.shape[0]).values\n",
    "aux_1 = np.append(prior, y_test[0,:])\n",
    "\n",
    "l_aux = int(0.95*len(aux_1))\n",
    "y_aux = np.linspace(1, len(aux_1), len(aux_1))"
   ]
  },
  {
   "cell_type": "code",
   "execution_count": 17,
   "metadata": {},
   "outputs": [
    {
     "data": {
      "image/png": "[encoded data removed]",
      "text/plain": [
       "<Figure size 720x360 with 1 Axes>"
      ]
     },
     "metadata": {
      "needs_background": "light"
     },
     "output_type": "display_data"
    }
   ],
   "source": [
    "cmap = cm.plasma\n",
    "colors = np.linspace(0,0.95, ntrials)\n",
    "\n",
    "plt.figure(figsize=(10,5))\n",
    "plt.plot(y_aux[l_aux:], aux_1[l_aux:], color='black', alpha = 0.80)\n",
    "\n",
    "for i in range(0, ntrials):\n",
    "    aux_2 = np.append(np.zeros(len(prior)), walks[1][i,:])\n",
    "    plt.scatter(y_aux[l_aux:], aux_2[l_aux:], color = cmap(colors[25]) , alpha = 0.05, s = 100)\n",
    "\n",
    "plt.ylim([20,120])\n",
    "plt.xlabel('Time [a.u.]', fontsize=14)\n",
    "plt.ylabel('Bed Occupancy', fontsize=14)\n",
    "plt.xticks(fontsize=13)\n",
    "plt.yticks(fontsize=13)\n",
    "\n",
    "plt.show()"
   ]
  },
  {
   "cell_type": "code",
   "execution_count": null,
   "metadata": {},
   "outputs": [],
   "source": []
  },
  {
   "cell_type": "markdown",
   "metadata": {},
   "source": [
    "## Random Walk"
   ]
  },
  {
   "cell_type": "code",
   "execution_count": 18,
   "metadata": {},
   "outputs": [],
   "source": [
    "l = 1#forecast\n",
    "q = 35 #lagging\n",
    "\n",
    "f = 0.70\n",
    "X, y = xy_matrices(df,'occupancy' ,q, l, False)\n",
    "X_train, X_test, y_train, y_test = chrono_split(X, y, f)"
   ]
  },
  {
   "cell_type": "code",
   "execution_count": 19,
   "metadata": {},
   "outputs": [
    {
     "ename": "ModuleNotFoundError",
     "evalue": "No module named 'numpy.core._multiarray_umath'",
     "output_type": "error",
     "traceback": [
      "\u001b[0;31m---------------------------------------------------------------------------\u001b[0m",
      "\u001b[0;31mModuleNotFoundError\u001b[0m                       Traceback (most recent call last)",
      "\u001b[0;31mModuleNotFoundError\u001b[0m: No module named 'numpy.core._multiarray_umath'"
     ]
    }
   ],
   "source": [
    "p = 30\n",
    "df['s_occupancy'] = df['occupancy'].ewm(span = p).mean()\n",
    "df['r_occupancy'] = df['occupancy']-df['s_occupancy']"
   ]
  },
  {
   "cell_type": "code",
   "execution_count": 20,
   "metadata": {},
   "outputs": [],
   "source": [
    "X_r, y_r = xy_matrices(df,'r_occupancy' ,q, l, False)\n",
    "X_train_r, X_test_r, y_train_r, y_test_r = chrono_split(X, y, f)\n",
    "\n",
    "sigma = np.std(y_train_r)"
   ]
  },
  {
   "cell_type": "code",
   "execution_count": null,
   "metadata": {},
   "outputs": [
    {
     "name": "stderr",
     "output_type": "stream",
     "text": [
      "/Users/brawantonio/opt/anaconda3/lib/python3.7/site-packages/sklearn/neural_network/multilayer_perceptron.py:1321: DataConversionWarning: A column-vector y was passed when a 1d array was expected. Please change the shape of y to (n_samples, ), for example using ravel().\n",
      "  y = column_or_1d(y, warn=True)\n"
     ]
    }
   ],
   "source": [
    "for model in models:\n",
    "    models[model].fit(X_train, y_train)"
   ]
  },
  {
   "cell_type": "code",
   "execution_count": null,
   "metadata": {},
   "outputs": [],
   "source": [
    "ntrials = 300"
   ]
  },
  {
   "cell_type": "code",
   "execution_count": null,
   "metadata": {},
   "outputs": [],
   "source": [
    "prob_dist = {}\n",
    "\n",
    "for trial in range(ntrials):\n",
    "    step = X_test[-1,:]\n",
    "    random_walk = np.array([])\n",
    "    for day in range(0,X_test.shape[0]):\n",
    "        dy = np.random.normal(loc=0, scale = sigma)\n",
    "        y_rw = models['nene'].predict(step.reshape(1,-1))[0]\n",
    "        step = np.append(step[1:], y_rw) + 0.1*dy\n",
    "        random_walk = np.append(random_walk, y_rw)\n",
    "\n",
    "    prob_dist[trial] = random_walk"
   ]
  },
  {
   "cell_type": "code",
   "execution_count": null,
   "metadata": {},
   "outputs": [],
   "source": [
    "prior = df.head(X_train.shape[0]).values\n",
    "aux_1 = np.append(prior, y_test[0,:])"
   ]
  },
  {
   "cell_type": "code",
   "execution_count": null,
   "metadata": {},
   "outputs": [],
   "source": [
    "cmap = cm.plasma\n",
    "colors = np.linspace(0,0.75, 100)\n",
    "\n",
    "plt.figure(figsize=(12,5))\n",
    "for trial in range(100):\n",
    "    aux_2 = np.append(np.zeros(len(prior)), prob_dist[trial][0:7])\n",
    "    plt.scatter(y_aux[l_aux:], aux_2[l_aux:], color=cmap(colors[trial]), alpha = 0.05, s = 100)\n",
    "    \n",
    "plt.plot(y_aux[l_aux:], aux_1[l_aux:], color='black', alpha = 0.80)\n",
    "\n",
    "\n",
    "plt.ylabel('Occupancy', fontsize=14)\n",
    "plt.xlabel('Date [Crhonological]', fontsize=14)\n",
    "plt.xticks(fontsize=12)\n",
    "plt.yticks(fontsize=12)\n",
    "#plt.legend(loc='best', fontsize=12)\n",
    "plt.title('Random Walk Forecasting', fontsize = 14)\n",
    "plt.ylim([60,130])\n",
    "#plt.xlim([900,1400])\n",
    "plt.show()"
   ]
  },
  {
   "cell_type": "code",
   "execution_count": null,
   "metadata": {},
   "outputs": [],
   "source": []
  }
 ],
 "metadata": {
  "kernelspec": {
   "display_name": "Python 3",
   "language": "python",
   "name": "python3"
  },
  "language_info": {
   "codemirror_mode": {
    "name": "ipython",
    "version": 3
   },
   "file_extension": ".py",
   "mimetype": "text/x-python",
   "name": "python",
   "nbconvert_exporter": "python",
   "pygments_lexer": "ipython3",
   "version": "3.7.4"
  }
 },
 "nbformat": 4,
 "nbformat_minor": 2
}
